{
 "cells": [
  {
   "cell_type": "markdown",
   "metadata": {},
   "source": [
    "#### Based on these excellent guides:\n",
    "https://www.kaggle.com/moghazy/beginner-s-guide-to-cnns-with-keras-99-8\n",
    "\n",
    "https://cv-tricks.com/tensorflow-tutorial/keras/"
   ]
  },
  {
   "cell_type": "code",
   "execution_count": 1,
   "metadata": {},
   "outputs": [
    {
     "name": "stderr",
     "output_type": "stream",
     "text": [
      "Using TensorFlow backend.\n"
     ]
    }
   ],
   "source": [
    "import keras\n",
    "import tensorflow as tf\n",
    "import numpy as np\n",
    "import os\n",
    "import pandas as pd"
   ]
  },
  {
   "cell_type": "code",
   "execution_count": 2,
   "metadata": {},
   "outputs": [],
   "source": [
    "from keras.datasets import fashion_mnist\n",
    "\n",
    "(X_train, y_train), (X_test, y_test) = fashion_mnist.load_data()"
   ]
  },
  {
   "cell_type": "code",
   "execution_count": 3,
   "metadata": {},
   "outputs": [],
   "source": [
    "from keras import backend as K\n",
    "from keras.utils import np_utils"
   ]
  },
  {
   "cell_type": "code",
   "execution_count": 4,
   "metadata": {},
   "outputs": [],
   "source": [
    "from keras.layers import Dense, Dropout,Flatten\n",
    "from keras.layers.convolutional import Conv2D, MaxPooling2D"
   ]
  },
  {
   "cell_type": "code",
   "execution_count": 5,
   "metadata": {},
   "outputs": [],
   "source": [
    "from keras.models import Sequential\n",
    "import pandas as pd\n",
    "\n",
    "model = Sequential()"
   ]
  },
  {
   "cell_type": "code",
   "execution_count": 6,
   "metadata": {},
   "outputs": [],
   "source": [
    "K.set_image_data_format('channels_last')\n",
    "np.random.seed(0)"
   ]
  },
  {
   "cell_type": "code",
   "execution_count": 8,
   "metadata": {},
   "outputs": [],
   "source": [
    "# data normalzation\n",
    "X_train = X_train / 255\n",
    "X_test2 = X_test / 255"
   ]
  },
  {
   "cell_type": "code",
   "execution_count": 9,
   "metadata": {},
   "outputs": [
    {
     "name": "stdout",
     "output_type": "stream",
     "text": [
      "the number of training examples = 60000\n",
      "the number of classes = 10\n",
      "Dimention of images = 28 x 28  \n"
     ]
    }
   ],
   "source": [
    "import matplotlib.pyplot as plt\n",
    "\n",
    "print(\"the number of training examples = %i\" % X_train.shape[0])\n",
    "print(\"the number of classes = %i\" % len(np.unique(y_train)))\n",
    "print(\"Dimention of images = {:d} x {:d}  \".format(X_train[1].shape[0],X_train[1].shape[1])  )"
   ]
  },
  {
   "cell_type": "code",
   "execution_count": 10,
   "metadata": {},
   "outputs": [],
   "source": [
    "unique, count= np.unique(y_train, return_counts=True)"
   ]
  },
  {
   "cell_type": "code",
   "execution_count": null,
   "metadata": {},
   "outputs": [],
   "source": [
    "## trying out enumerate function\n",
    "# a = [5, 6, 7, 8]\n",
    "# enumerate(a)\n",
    "# for i in enumerate(a):\n",
    "#     print(i)"
   ]
  },
  {
   "cell_type": "code",
   "execution_count": 11,
   "metadata": {},
   "outputs": [
    {
     "data": {
      "image/png": "[encoded data removed]",
      "text/plain": [
       "<Figure size 432x288 with 12 Axes>"
      ]
     },
     "metadata": {
      "needs_background": "light"
     },
     "output_type": "display_data"
    }
   ],
   "source": [
    "images_and_labels = list(zip(X_train,  y_train))\n",
    "for index, (image, label) in enumerate(images_and_labels[:12]):\n",
    "    plt.subplot(5, 4, index + 1)\n",
    "    plt.axis('off')\n",
    "    plt.imshow(image, cmap=plt.cm.gray_r, interpolation='nearest')\n",
    "    plt.title('label: %i' % label)\n"
   ]
  },
  {
   "cell_type": "code",
   "execution_count": null,
   "metadata": {},
   "outputs": [],
   "source": [
    "# how plt.subplots work\n",
    "# plt.subplot(3, 4, 1)\n",
    "# plt.subplot(3, 4, 2)\n",
    "# plt.subplot(3, 4, 3)\n",
    "# plt.subplot(3, 4, 4)\n",
    "# plt.subplot(3, 4, 5)"
   ]
  },
  {
   "cell_type": "code",
   "execution_count": 12,
   "metadata": {},
   "outputs": [],
   "source": [
    "X_train = X_train.reshape(X_train.shape[0], 28, 28 , 1).astype('float32')\n",
    "X_test = X_test.reshape(X_test.shape[0], 28, 28 , 1).astype('float32')\n",
    "y_train = np_utils.to_categorical(y_train)\n",
    "y_test = np_utils.to_categorical(y_test)"
   ]
  },
  {
   "cell_type": "code",
   "execution_count": 13,
   "metadata": {},
   "outputs": [
    {
     "data": {
      "text/plain": [
       "(60000, 28, 28, 1)"
      ]
     },
     "execution_count": 13,
     "metadata": {},
     "output_type": "execute_result"
    }
   ],
   "source": [
    "X_train.shape"
   ]
  },
  {
   "cell_type": "code",
   "execution_count": 14,
   "metadata": {},
   "outputs": [],
   "source": [
    "from keras.layers import Dropout\n",
    "\n",
    "model.add(Conv2D(40, kernel_size=5, padding=\"same\",input_shape=(28, 28, 1), activation = 'relu'))\n",
    "model.add(Conv2D(50, kernel_size=5, padding=\"valid\", activation = 'relu'))\n",
    "model.add(MaxPooling2D(pool_size=(2, 2), strides=(2, 2)))\n",
    "model.add(Dropout(0.2))"
   ]
  },
  {
   "cell_type": "code",
   "execution_count": 15,
   "metadata": {},
   "outputs": [],
   "source": [
    "model.add(Conv2D(70, kernel_size=3, padding=\"same\", activation = 'relu'))\n",
    "model.add(MaxPooling2D(pool_size=(2, 2), strides=(2, 2)))\n",
    "model.add(Conv2D(100, kernel_size=3, padding=\"valid\", activation = 'relu'))\n",
    "model.add(MaxPooling2D(pool_size=(2, 2), strides=(2, 2)))"
   ]
  },
  {
   "cell_type": "code",
   "execution_count": 16,
   "metadata": {},
   "outputs": [],
   "source": [
    "from keras.layers.core import Activation\n",
    "\n",
    "model.add(Flatten())\n",
    "model.add(Dense(100))\n",
    "model.add(Activation(\"relu\"))\n",
    "model.add(Dropout(0.2))\n",
    "\n",
    "model.add(Dense(10))\n",
    "model.add(Activation(\"softmax\"))\n",
    "model.compile(loss='categorical_crossentropy', optimizer='adam', metrics=['accuracy'])"
   ]
  },
  {
   "cell_type": "code",
   "execution_count": 17,
   "metadata": {},
   "outputs": [
    {
     "name": "stdout",
     "output_type": "stream",
     "text": [
      "Train on 48000 samples, validate on 12000 samples\n",
      "Epoch 1/32\n",
      "48000/48000 [==============================] - 287s 6ms/step - loss: 0.7794 - acc: 0.7191 - val_loss: 0.4536 - val_acc: 0.8319\n",
      "Epoch 2/32\n",
      "48000/48000 [==============================] - 314s 7ms/step - loss: 0.4366 - acc: 0.8409 - val_loss: 0.3662 - val_acc: 0.8642\n",
      "Epoch 3/32\n",
      "48000/48000 [==============================] - 323s 7ms/step - loss: 0.3610 - acc: 0.8694 - val_loss: 0.3270 - val_acc: 0.8834\n",
      "Epoch 4/32\n",
      "48000/48000 [==============================] - 291s 6ms/step - loss: 0.3197 - acc: 0.8824 - val_loss: 0.3256 - val_acc: 0.8768\n",
      "Epoch 5/32\n",
      "48000/48000 [==============================] - 291s 6ms/step - loss: 0.2941 - acc: 0.8923 - val_loss: 0.2995 - val_acc: 0.8892\n",
      "Epoch 6/32\n",
      "48000/48000 [==============================] - 294s 6ms/step - loss: 0.2702 - acc: 0.9018 - val_loss: 0.2629 - val_acc: 0.9070\n",
      "Epoch 7/32\n",
      "48000/48000 [==============================] - 290s 6ms/step - loss: 0.2553 - acc: 0.9070 - val_loss: 0.2499 - val_acc: 0.9093\n",
      "Epoch 8/32\n",
      "48000/48000 [==============================] - 300s 6ms/step - loss: 0.2412 - acc: 0.9121 - val_loss: 0.2398 - val_acc: 0.9126\n",
      "Epoch 9/32\n",
      "48000/48000 [==============================] - 288s 6ms/step - loss: 0.2283 - acc: 0.9167 - val_loss: 0.2338 - val_acc: 0.9163\n",
      "Epoch 10/32\n",
      "48000/48000 [==============================] - 292s 6ms/step - loss: 0.2146 - acc: 0.9214 - val_loss: 0.2327 - val_acc: 0.9139\n",
      "Epoch 11/32\n",
      "48000/48000 [==============================] - 294s 6ms/step - loss: 0.2067 - acc: 0.9237 - val_loss: 0.2284 - val_acc: 0.9169\n",
      "Epoch 12/32\n",
      "48000/48000 [==============================] - 292s 6ms/step - loss: 0.1969 - acc: 0.9278 - val_loss: 0.2270 - val_acc: 0.9187\n",
      "Epoch 13/32\n",
      "48000/48000 [==============================] - 305s 6ms/step - loss: 0.1882 - acc: 0.9304 - val_loss: 0.2216 - val_acc: 0.9206\n",
      "Epoch 14/32\n",
      "48000/48000 [==============================] - 291s 6ms/step - loss: 0.1803 - acc: 0.9332 - val_loss: 0.2256 - val_acc: 0.9202\n",
      "Epoch 15/32\n",
      "48000/48000 [==============================] - 327s 7ms/step - loss: 0.1693 - acc: 0.9370 - val_loss: 0.2424 - val_acc: 0.9183\n",
      "Epoch 16/32\n",
      "48000/48000 [==============================] - 311s 6ms/step - loss: 0.1627 - acc: 0.9381 - val_loss: 0.2209 - val_acc: 0.9212\n",
      "Epoch 17/32\n",
      "48000/48000 [==============================] - 287s 6ms/step - loss: 0.1534 - acc: 0.9426 - val_loss: 0.2318 - val_acc: 0.9187\n",
      "Epoch 18/32\n",
      "48000/48000 [==============================] - 281s 6ms/step - loss: 0.1463 - acc: 0.9452 - val_loss: 0.2343 - val_acc: 0.9210\n",
      "Epoch 19/32\n",
      "48000/48000 [==============================] - 281s 6ms/step - loss: 0.1417 - acc: 0.9473 - val_loss: 0.2253 - val_acc: 0.9238\n",
      "Epoch 20/32\n",
      "48000/48000 [==============================] - 287s 6ms/step - loss: 0.1375 - acc: 0.9475 - val_loss: 0.2392 - val_acc: 0.9200\n",
      "Epoch 21/32\n",
      "48000/48000 [==============================] - 326s 7ms/step - loss: 0.1293 - acc: 0.9521 - val_loss: 0.2273 - val_acc: 0.9254\n",
      "Epoch 22/32\n",
      "48000/48000 [==============================] - 332s 7ms/step - loss: 0.1212 - acc: 0.9534 - val_loss: 0.2438 - val_acc: 0.9219\n",
      "Epoch 23/32\n",
      "48000/48000 [==============================] - 332s 7ms/step - loss: 0.1183 - acc: 0.9552 - val_loss: 0.2351 - val_acc: 0.9240\n",
      "Epoch 24/32\n",
      "48000/48000 [==============================] - 322s 7ms/step - loss: 0.1117 - acc: 0.9574 - val_loss: 0.2402 - val_acc: 0.9246\n",
      "Epoch 25/32\n",
      "48000/48000 [==============================] - 345s 7ms/step - loss: 0.1084 - acc: 0.9586 - val_loss: 0.2467 - val_acc: 0.9233\n",
      "Epoch 26/32\n",
      "48000/48000 [==============================] - 351s 7ms/step - loss: 0.1023 - acc: 0.9611 - val_loss: 0.2482 - val_acc: 0.9237\n",
      "Epoch 27/32\n",
      "48000/48000 [==============================] - 356s 7ms/step - loss: 0.0988 - acc: 0.9622 - val_loss: 0.2595 - val_acc: 0.9203\n",
      "Epoch 28/32\n",
      "48000/48000 [==============================] - 345s 7ms/step - loss: 0.0952 - acc: 0.9634 - val_loss: 0.2788 - val_acc: 0.9192\n",
      "Epoch 29/32\n",
      "48000/48000 [==============================] - 326s 7ms/step - loss: 0.0937 - acc: 0.9637 - val_loss: 0.2624 - val_acc: 0.9227\n",
      "Epoch 30/32\n",
      "48000/48000 [==============================] - 378s 8ms/step - loss: 0.0879 - acc: 0.9655 - val_loss: 0.2668 - val_acc: 0.9212\n",
      "Epoch 31/32\n",
      "48000/48000 [==============================] - 373s 8ms/step - loss: 0.0850 - acc: 0.9672 - val_loss: 0.3020 - val_acc: 0.9194\n",
      "Epoch 32/32\n",
      "48000/48000 [==============================] - 376s 8ms/step - loss: 0.0856 - acc: 0.9670 - val_loss: 0.2887 - val_acc: 0.9233\n",
      "[2.5598183097839358, 0.8385]\n"
     ]
    }
   ],
   "source": [
    "model.compile(loss='categorical_crossentropy', optimizer='adam', metrics=['accuracy'])\n",
    "model.fit(X_train, y_train, epochs= 32 , batch_size=200, validation_split = 0.2)\n",
    "scores = model.evaluate(X_test, y_test, verbose = 10 )\n",
    "print ( scores )"
   ]
  },
  {
   "cell_type": "code",
   "execution_count": 18,
   "metadata": {},
   "outputs": [
    {
     "name": "stdout",
     "output_type": "stream",
     "text": [
      "[2.5598183097839358, 0.8385]\n"
     ]
    }
   ],
   "source": [
    "scores = model.evaluate(X_test, y_test, verbose = 10 )\n",
    "print ( scores )"
   ]
  },
  {
   "cell_type": "code",
   "execution_count": null,
   "metadata": {},
   "outputs": [],
   "source": []
  }
 ],
 "metadata": {
  "kernelspec": {
   "display_name": "Python 3",
   "language": "python",
   "name": "python3"
  },
  "language_info": {
   "codemirror_mode": {
    "name": "ipython",
    "version": 3
   },
   "file_extension": ".py",
   "mimetype": "text/x-python",
   "name": "python",
   "nbconvert_exporter": "python",
   "pygments_lexer": "ipython3",
   "version": "3.5.0"
  }
 },
 "nbformat": 4,
 "nbformat_minor": 2
}
